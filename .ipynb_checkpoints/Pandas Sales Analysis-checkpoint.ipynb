{
 "cells": [
  {
   "cell_type": "markdown",
   "metadata": {},
   "source": [
    "# Sales Analysis using Python Pandas & Python Matplotlib"
   ]
  },
  {
   "cell_type": "markdown",
   "metadata": {},
   "source": [
    "## OBJECTIVE"
   ]
  },
  {
   "cell_type": "markdown",
   "metadata": {},
   "source": [
    "In this project, I use Python Pandas and Python Matplotlib to answer several business questions of 12-month sales data which contains information regarding product sold, quantity, price and address."
   ]
  },
  {
   "cell_type": "markdown",
   "metadata": {},
   "source": [
    "### Business questions to be addressed:"
   ]
  },
  {
   "cell_type": "markdown",
   "metadata": {},
   "source": [
    "- Which products are the best sellers?\n",
    "- Which are the top 10 products with highest sales?\n",
    "- Which city sold the most products?\n",
    "- What is the sales trend during 12 months & which month of the year has the highest sales?\n",
    "- Which day of the week has the highest sales amount?\n",
    "- What is the company sales by product and city?\n",
    "- Which products often sold together?\n",
    "- Based on the order time, what is the best time to display product advertisement to attract customers?\n",
    "- What is the sales distribution by month?\n",
    "- What is the sales distribution by product?\n",
    "- What is the quantity distribution by month?\n",
    "- What is the quantity distribution by product?"
   ]
  },
  {
   "cell_type": "markdown",
   "metadata": {},
   "source": [
    "<h3> IMPORTING NECESSARY LIBRARIES"
   ]
  },
  {
   "cell_type": "code",
   "execution_count": 1,
   "metadata": {},
   "outputs": [],
   "source": [
    "import pandas as pd\n",
    "import matplotlib.pyplot as plt"
   ]
  },
  {
   "cell_type": "code",
   "execution_count": null,
   "metadata": {},
   "outputs": [],
   "source": []
  }
 ],
 "metadata": {
  "kernelspec": {
   "display_name": "Python 3",
   "language": "python",
   "name": "python3"
  },
  "language_info": {
   "codemirror_mode": {
    "name": "ipython",
    "version": 3
   },
   "file_extension": ".py",
   "mimetype": "text/x-python",
   "name": "python",
   "nbconvert_exporter": "python",
   "pygments_lexer": "ipython3",
   "version": "3.8.5"
  }
 },
 "nbformat": 4,
 "nbformat_minor": 4
}
